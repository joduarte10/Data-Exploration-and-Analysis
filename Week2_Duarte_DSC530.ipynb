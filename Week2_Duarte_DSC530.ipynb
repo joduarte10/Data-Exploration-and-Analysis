{
 "cells": [
  {
   "cell_type": "code",
   "execution_count": 2,
   "id": "9a806673-42cb-4c1f-8c20-fcd9dc76c7ac",
   "metadata": {},
   "outputs": [
    {
     "name": "stdout",
     "output_type": "stream",
     "text": [
      "Hello world, my name is Jose Duarte\n",
      "Sum of num1 & num2 is:  30\n",
      "Minus of num1 & num2 is:  -10\n",
      "Multiplication of num1 & num2 is:  200\n",
      "Division of num1 & num2 is:  0.5\n",
      "Concatenate String:  Hello World\n",
      "Initial list:  ['Hello', 'World', 10, 20.1, True]\n",
      "List after append:  ['Hello', 'World', 10, 20.1, True, 'Jose Duarte']\n"
     ]
    }
   ],
   "source": [
    "#Display the text “Hello World! My name is ....\"\n",
    "print(\"Hello world, my name is Jose Duarte\")\n",
    "#Add two numbers together\n",
    "num1 = 10\n",
    "num2 = 20\n",
    "sum = num1 + num2\n",
    "print(\"Sum of num1 & num2 is: \", sum)\n",
    "#Subtract a number from another number\n",
    "minus = num1 - num2\n",
    "print(\"Minus of num1 & num2 is: \", minus)\n",
    "#Multiply two numbers\n",
    "multiply = num1 * num2\n",
    "print(\"Multiplication of num1 & num2 is: \", multiply)\n",
    "#Divide between two numbers\n",
    "divide = num1 / num2\n",
    "print(\"Division of num1 & num2 is: \", divide)\n",
    "#Concatenate two strings together (any words)\n",
    "string1 = \"Hello\"\n",
    "string2 = \"World\"\n",
    "concatenated = string1 + \" \" + string2\n",
    "print(\"Concatenate String: \", concatenated)\n",
    "#Create a list of 4 items (can be strings, numbers, both)\n",
    "list1 = [\"Hello\", \"World\", 10, 20.1, True]\n",
    "print(\"Initial list: \", list1)\n",
    "#Append an item to your list (again, can be a string, number)\n",
    "list1.append(\"Jose Duarte\")\n",
    "print(\"List after append: \", list1)\n",
    "#Create a tuple with 4 items (can be strings, numbers, both)\n",
    "tuple1 = (\"Ausitn\", \"Texas\", 20, 100.1, False)\n"
   ]
  }
 ],
 "metadata": {
  "kernelspec": {
   "display_name": "Python 3 (ipykernel)",
   "language": "python",
   "name": "python3"
  },
  "language_info": {
   "codemirror_mode": {
    "name": "ipython",
    "version": 3
   },
   "file_extension": ".py",
   "mimetype": "text/x-python",
   "name": "python",
   "nbconvert_exporter": "python",
   "pygments_lexer": "ipython3",
   "version": "3.12.3"
  }
 },
 "nbformat": 4,
 "nbformat_minor": 5
}
